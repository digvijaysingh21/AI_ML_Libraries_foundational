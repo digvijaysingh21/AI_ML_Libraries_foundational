{
  "nbformat": 4,
  "nbformat_minor": 0,
  "metadata": {
    "colab": {
      "provenance": [],
      "authorship_tag": "ABX9TyMzopseG6uFXL9IeklWWJVL",
      "include_colab_link": true
    },
    "kernelspec": {
      "name": "python3",
      "display_name": "Python 3"
    },
    "language_info": {
      "name": "python"
    }
  },
  "cells": [
    {
      "cell_type": "markdown",
      "metadata": {
        "id": "view-in-github",
        "colab_type": "text"
      },
      "source": [
        "<a href=\"https://colab.research.google.com/github/digvijaysingh21/AI_ML_Libraries_foundational/blob/main/linear_regressuion_manually.ipynb\" target=\"_parent\"><img src=\"https://colab.research.google.com/assets/colab-badge.svg\" alt=\"Open In Colab\"/></a>"
      ]
    },
    {
      "cell_type": "code",
      "execution_count": 1,
      "metadata": {
        "id": "Zs27Pd8qsURQ"
      },
      "outputs": [],
      "source": [
        "import numpy as np\n",
        "import matplotlib.pyplot as plt"
      ]
    },
    {
      "cell_type": "code",
      "source": [
        "class LinearRegression:\n",
        "    def __init__(self):\n",
        "      self.m = 0 #slope\n",
        "      self.b = 0 #intercept\n",
        "\n",
        "    def fit(self, X, y):\n",
        "      #mean of x and y\n",
        "      X_mean = np.mean(X)\n",
        "      y_mean = np.mean(y)\n",
        "\n",
        "      # calculationg slope(m)\n",
        "      numerator = np.sum(X -X_mean) * (y - y_mean)\n",
        "      denominator = np.sum((X - X_mean) ** 2)\n",
        "      self.m = numerator / denominator\n",
        "\n",
        "      #calculating intercept\n",
        "      self.b = y_mean - self.m * X_mean\n",
        "\n",
        "    def predict(self, X):\n",
        "      return self.m * X + self.b\n",
        "\n",
        "\n",
        "    def mean_squared_error(slef, y_true, y_pred):\n",
        "      return np.mean((y_true - y_pred) ** 2)\n",
        "\n",
        "\n",
        "    def r2_score(self, y_true, y_pred):\n",
        "      numerator = np.sum((y_true - y_pred) ** 2)\n",
        "      denominator = np.sum((y_true - np.mean(y_true)) ** 2)\n",
        "      return 1 - (numerator / denominator)\n",
        "\n",
        "\n",
        "    def plot_regression_line(self,X,y):\n",
        "      plt.scatter(X,y,color='red', label='data plot')\n",
        "      y_pred = self.predict(X)\n",
        "      plt.plot(X,y_pred, color='blue', label='regression line')\n",
        "      plt.xlabel('X')\n",
        "      plt.ylabel('y')\n",
        "      plt.legend()\n",
        "      plt.show()\n",
        "\n",
        "\n",
        "X = np.array([1,2,3,4,5])\n",
        "y = np.array([2,4,5,4,5])\n",
        "\n",
        "#create and train model\n",
        "model = LinearRegression()\n",
        "model.fit(X,y)\n",
        "\n",
        "#predicition\n",
        "y_pred = model.predict(X)\n",
        "print(\"prediction:\", y_pred)\n",
        "\n",
        "#accuracy metrics\n",
        "mse = model.mean_squared_error(y,y_pred)\n",
        "r2 = model.r2_score(y,y_pred)\n",
        "print(\"mean squared error:\", mse)\n",
        "print(\"r2 score:\", r2)\n",
        "\n",
        "\n",
        "#plot regression line\n",
        "model.plot_regression_line(X,y)\n",
        "\n"
      ],
      "metadata": {
        "colab": {
          "base_uri": "https://localhost:8080/",
          "height": 501
        },
        "id": "9rXiUAEUsrdk",
        "outputId": "aae14e6e-3f7b-41c1-f180-02dc89d0f869"
      },
      "execution_count": 4,
      "outputs": [
        {
          "output_type": "stream",
          "name": "stdout",
          "text": [
            "prediction: [4. 4. 4. 4. 4.]\n",
            "mean squared error: 1.2\n",
            "r2 score: 0.0\n"
          ]
        },
        {
          "output_type": "display_data",
          "data": {
            "text/plain": [
              "<Figure size 640x480 with 1 Axes>"
            ],
            "image/png": "[encoded data removed]"
          },
          "metadata": {}
        }
      ]
    },
    {
      "cell_type": "code",
      "source": [],
      "metadata": {
        "id": "7l6nTvDkvG5-"
      },
      "execution_count": null,
      "outputs": []
    }
  ]
}