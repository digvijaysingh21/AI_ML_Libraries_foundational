{
  "nbformat": 4,
  "nbformat_minor": 0,
  "metadata": {
    "colab": {
      "provenance": [],
      "authorship_tag": "ABX9TyPTXzIIiZHKrdaPQRfkUPhN",
      "include_colab_link": true
    },
    "kernelspec": {
      "name": "python3",
      "display_name": "Python 3"
    },
    "language_info": {
      "name": "python"
    }
  },
  "cells": [
    {
      "cell_type": "markdown",
      "metadata": {
        "id": "view-in-github",
        "colab_type": "text"
      },
      "source": [
        "<a href=\"https://colab.research.google.com/github/digvijaysingh21/AI_ML_Libraries_foundational/blob/main/numpy_2_practice.ipynb\" target=\"_parent\"><img src=\"https://colab.research.google.com/assets/colab-badge.svg\" alt=\"Open In Colab\"/></a>"
      ]
    },
    {
      "cell_type": "code",
      "execution_count": 8,
      "metadata": {
        "colab": {
          "base_uri": "https://localhost:8080/"
        },
        "id": "Fev3HBGT0U5g",
        "outputId": "fa39ae40-ccdd-411d-fc6f-2d0e509260c0"
      },
      "outputs": [
        {
          "output_type": "stream",
          "name": "stdout",
          "text": [
            "[0, 1, 2, 3, 4, 5, 6, 7, 8, 9, 10, 11, 12, 13, 14, 15, 16, 17, 18, 19, 20, 21, 22, 23, 24, 25, 26, 27, 28, 29, 30, 31, 32, 33, 34, 35, 36, 37, 38, 39, 40, 41, 42, 43, 44, 45, 46, 47, 48, 49, 50, 51, 52, 53, 54, 55, 56, 57, 58, 59, 60, 61, 62, 63, 64, 65, 66, 67, 68, 69, 70, 71, 72, 73, 74, 75, 76, 77, 78, 79, 80, 81, 82, 83, 84, 85, 86, 87, 88, 89, 90, 91, 92, 93, 94, 95, 96, 97, 98, 99]\n",
            "[ 0  1  2  3  4  5  6  7  8  9 10 11 12 13 14 15 16 17 18 19 20 21 22 23\n",
            " 24 25 26 27 28 29 30 31 32 33 34 35 36 37 38 39 40 41 42 43 44 45 46 47\n",
            " 48 49 50 51 52 53 54 55 56 57 58 59 60 61 62 63 64 65 66 67 68 69 70 71\n",
            " 72 73 74 75 76 77 78 79 80 81 82 83 84 85 86 87 88 89 90 91 92 93 94 95\n",
            " 96 97 98 99]\n"
          ]
        }
      ],
      "source": [
        "import numpy as np\n",
        "\n",
        "#difference between list and numpy\n",
        "\n",
        "li_arr = [i for i in range(0,100)] #list array\n",
        "np_arr = np.arange(100) #numpy array\n",
        "\n",
        "print(li_arr)\n",
        "print(np_arr)"
      ]
    },
    {
      "cell_type": "code",
      "source": [
        "#size of one element in numpy array\n",
        "print(np_arr.itemsize)\n",
        "\n",
        "#size of 100 element in numpy array\n",
        "print(np_arr.itemsize * np_arr.size)"
      ],
      "metadata": {
        "colab": {
          "base_uri": "https://localhost:8080/"
        },
        "id": "0u4558Jy1PBn",
        "outputId": "4d247cde-653a-4286-c28e-f0f5bc0e32cd"
      },
      "execution_count": 4,
      "outputs": [
        {
          "output_type": "stream",
          "name": "stdout",
          "text": [
            "8\n",
            "800\n"
          ]
        }
      ]
    },
    {
      "cell_type": "code",
      "source": [
        "import sys\n",
        "#size of one element in list\n",
        "a = 0;\n",
        "print(sys.getsizeof(a))\n",
        "\n",
        "#size of 100 elements in list\n",
        "print(sys.getsizeof(a) * len(li_arr))"
      ],
      "metadata": {
        "colab": {
          "base_uri": "https://localhost:8080/"
        },
        "id": "OmOpH8Tz1T1a",
        "outputId": "0f490be5-104d-4a04-c453-56236f36a6ca"
      },
      "execution_count": 10,
      "outputs": [
        {
          "output_type": "stream",
          "name": "stdout",
          "text": [
            "28\n",
            "2800\n"
          ]
        }
      ]
    },
    {
      "cell_type": "markdown",
      "source": [
        "**time execution of numpy is much faster then normal python list**"
      ],
      "metadata": {
        "id": "43XJ7M-Y50h-"
      }
    },
    {
      "cell_type": "code",
      "source": [
        "import time\n",
        "import numpy as np\n",
        "\n",
        "size = 100000\n",
        "\n",
        "#add elements of array a and b\n",
        "\n",
        "def addition_using_list():\n",
        "  t1 = time.time()\n",
        "  a = range(size)\n",
        "  b = range(size)\n",
        "  c = [a[i] + b[i] for i in range(size)]\n",
        "  t2 = time.time()\n",
        "  return (t2 - t1)\n",
        "\n",
        "\n",
        "def addition_using_numpy():\n",
        "    t1 = time.time()\n",
        "    a = np.arange(size)\n",
        "    b = np.arange(size)\n",
        "    c = a + b\n",
        "    t2 = time.time()\n",
        "    return (t2 - t1)\n",
        "\n",
        "\n",
        "t_list = addition_using_list()\n",
        "print(\"List\", t_list * 1000) #milliseconds\n",
        "t_numpy = addition_using_numpy()\n",
        "print('numpy', t_numpy * 1000)\n"
      ],
      "metadata": {
        "colab": {
          "base_uri": "https://localhost:8080/"
        },
        "id": "wiK-3f1X5mOn",
        "outputId": "cd85d3eb-f2f3-4f02-9cda-f7ad8fed6e70"
      },
      "execution_count": 1,
      "outputs": [
        {
          "output_type": "stream",
          "name": "stdout",
          "text": [
            "List 22.62735366821289\n",
            "numpy 5.028247833251953\n"
          ]
        }
      ]
    },
    {
      "cell_type": "code",
      "source": [
        "import numpy as np\n",
        "\n",
        "a = [1,2,3]\n",
        "b = np.array(a)\n",
        "\n",
        "print(b)\n",
        "print(type(b))\n"
      ],
      "metadata": {
        "colab": {
          "base_uri": "https://localhost:8080/"
        },
        "id": "YCZj_7OXJDz6",
        "outputId": "8c80062e-e668-4462-d17f-7e0c03099525"
      },
      "execution_count": 2,
      "outputs": [
        {
          "output_type": "stream",
          "name": "stdout",
          "text": [
            "[1 2 3]\n",
            "<class 'numpy.ndarray'>\n"
          ]
        }
      ]
    },
    {
      "cell_type": "code",
      "source": [
        "a = [1,2,3, '4', 'a', 4.5]\n",
        "b = np.array(a)\n",
        "print(b)"
      ],
      "metadata": {
        "colab": {
          "base_uri": "https://localhost:8080/"
        },
        "id": "at-q58EqJlVa",
        "outputId": "09b7e824-b22f-4193-c7a7-07dde575738e"
      },
      "execution_count": 3,
      "outputs": [
        {
          "output_type": "stream",
          "name": "stdout",
          "text": [
            "['1' '2' '3' '4' 'a' '4.5']\n"
          ]
        }
      ]
    },
    {
      "cell_type": "code",
      "source": [
        "a=[1,2,3,'4','5'] #note if alpha value of string present and if be use dtype = int then it will throw error only numeric value of sting can be converted into dtype=int or float\n",
        "b = np.array(a, dtype=int)\n",
        "print(b)"
      ],
      "metadata": {
        "colab": {
          "base_uri": "https://localhost:8080/"
        },
        "id": "zcIPej0pLKvp",
        "outputId": "10b89fde-56b0-4bc7-e90d-e72352fecbc1"
      },
      "execution_count": 5,
      "outputs": [
        {
          "output_type": "stream",
          "name": "stdout",
          "text": [
            "[1 2 3 4 5]\n"
          ]
        }
      ]
    },
    {
      "cell_type": "code",
      "source": [
        "b = np.array(a, dtype=float)\n",
        "print(b)"
      ],
      "metadata": {
        "colab": {
          "base_uri": "https://localhost:8080/"
        },
        "id": "kpoR26HBMICS",
        "outputId": "9d43b71a-8d4f-423c-ce2c-c0eb6f2b7402"
      },
      "execution_count": 6,
      "outputs": [
        {
          "output_type": "stream",
          "name": "stdout",
          "text": [
            "[1. 2. 3. 4. 5.]\n"
          ]
        }
      ]
    },
    {
      "cell_type": "code",
      "source": [
        "b = np.array(a, dtype=str)\n",
        "print(b)"
      ],
      "metadata": {
        "colab": {
          "base_uri": "https://localhost:8080/"
        },
        "id": "28CMexKLMIV6",
        "outputId": "7a3a7af5-9564-4996-cba3-8e7d0ded0d2f"
      },
      "execution_count": 7,
      "outputs": [
        {
          "output_type": "stream",
          "name": "stdout",
          "text": [
            "['1' '2' '3' '4' '5']\n"
          ]
        }
      ]
    },
    {
      "cell_type": "code",
      "source": [
        "a = [1,2,3,'4','4.5']\n",
        "b = np.array(a*3)\n",
        "print(b)"
      ],
      "metadata": {
        "colab": {
          "base_uri": "https://localhost:8080/"
        },
        "id": "sor1V-XrMYbt",
        "outputId": "0fa3439c-d8d9-41a4-cdae-03df06c33d88"
      },
      "execution_count": 8,
      "outputs": [
        {
          "output_type": "stream",
          "name": "stdout",
          "text": [
            "['1' '2' '3' '4' '4.5' '1' '2' '3' '4' '4.5' '1' '2' '3' '4' '4.5']\n"
          ]
        }
      ]
    },
    {
      "cell_type": "code",
      "source": [
        "b = np.ones(3, dtype=int) #by deafult it is float\n",
        "print (b)"
      ],
      "metadata": {
        "colab": {
          "base_uri": "https://localhost:8080/"
        },
        "id": "FyRjV_8xNvmc",
        "outputId": "ab5c58eb-c600-4f87-e280-47fa5b0ac4dd"
      },
      "execution_count": 11,
      "outputs": [
        {
          "output_type": "stream",
          "name": "stdout",
          "text": [
            "[1 1 1]\n"
          ]
        }
      ]
    },
    {
      "cell_type": "code",
      "source": [
        "b = np.zeros(3)\n",
        "print(b)"
      ],
      "metadata": {
        "colab": {
          "base_uri": "https://localhost:8080/"
        },
        "id": "NiiMRYkQNv3N",
        "outputId": "3e4a01bc-7c9c-4441-cb3e-492af2e16337"
      },
      "execution_count": 14,
      "outputs": [
        {
          "output_type": "stream",
          "name": "stdout",
          "text": [
            "[0. 0. 0.]\n"
          ]
        }
      ]
    },
    {
      "cell_type": "markdown",
      "source": [],
      "metadata": {
        "id": "e0HWxtgfOHaX"
      }
    },
    {
      "cell_type": "code",
      "source": [
        "b = np.ones((2,3),dtype=int) #2d array\n",
        "print(b)"
      ],
      "metadata": {
        "colab": {
          "base_uri": "https://localhost:8080/"
        },
        "id": "3Es-cDycNwEk",
        "outputId": "61ab3b18-0728-44fc-bd79-3e578313045a"
      },
      "execution_count": 18,
      "outputs": [
        {
          "output_type": "stream",
          "name": "stdout",
          "text": [
            "[[1 1 1]\n",
            " [1 1 1]]\n"
          ]
        }
      ]
    },
    {
      "cell_type": "code",
      "source": [
        "b = np.zeros((3,4))\n",
        "print(b)"
      ],
      "metadata": {
        "colab": {
          "base_uri": "https://localhost:8080/"
        },
        "id": "_CySKc4CQEFz",
        "outputId": "4be2b069-08e2-452e-878d-9b2fd12fbc23"
      },
      "execution_count": 21,
      "outputs": [
        {
          "output_type": "stream",
          "name": "stdout",
          "text": [
            "[[0. 0. 0. 0.]\n",
            " [0. 0. 0. 0.]\n",
            " [0. 0. 0. 0.]]\n"
          ]
        }
      ]
    },
    {
      "cell_type": "code",
      "source": [
        "b = np.full(3, 5)\n",
        "print(b)"
      ],
      "metadata": {
        "colab": {
          "base_uri": "https://localhost:8080/"
        },
        "id": "cW4ngPnYQaUe",
        "outputId": "48013454-eb2a-4ad6-960b-3283832c2912"
      },
      "execution_count": 22,
      "outputs": [
        {
          "output_type": "stream",
          "name": "stdout",
          "text": [
            "[5 5 5]\n"
          ]
        }
      ]
    },
    {
      "cell_type": "code",
      "source": [
        "b = np.full((3,3),5, dtype=float)\n",
        "print(b)"
      ],
      "metadata": {
        "colab": {
          "base_uri": "https://localhost:8080/"
        },
        "id": "AsXCXFuhT_2F",
        "outputId": "0f832306-9757-46fa-86b9-a6931c460d77"
      },
      "execution_count": 26,
      "outputs": [
        {
          "output_type": "stream",
          "name": "stdout",
          "text": [
            "[[5. 5. 5.]\n",
            " [5. 5. 5.]\n",
            " [5. 5. 5.]]\n"
          ]
        }
      ]
    },
    {
      "cell_type": "code",
      "source": [
        "#numpy.empty(shape, dtype = float, order = ‘C’) : Return a new array of given shape and type, with random values.\n",
        "b = np.empty(2, dtype=int)\n",
        "print(b)"
      ],
      "metadata": {
        "colab": {
          "base_uri": "https://localhost:8080/"
        },
        "id": "lbdmch65R2lv",
        "outputId": "27a68a71-ddf1-477c-8fd1-7e99e0d1f4f4"
      },
      "execution_count": 25,
      "outputs": [
        {
          "output_type": "stream",
          "name": "stdout",
          "text": [
            "[-9093133594791772939      135431952875416]\n"
          ]
        }
      ]
    },
    {
      "cell_type": "code",
      "source": [
        "b = np.arange(10)\n",
        "print(b)"
      ],
      "metadata": {
        "colab": {
          "base_uri": "https://localhost:8080/"
        },
        "id": "eWAZj6nga-hh",
        "outputId": "92a3f46e-a62a-469e-83b3-d5fa1633ac1b"
      },
      "execution_count": 27,
      "outputs": [
        {
          "output_type": "stream",
          "name": "stdout",
          "text": [
            "[0 1 2 3 4 5 6 7 8 9]\n"
          ]
        }
      ]
    },
    {
      "cell_type": "code",
      "source": [
        "b = np.arange(2,20,2)\n",
        "print(b)"
      ],
      "metadata": {
        "colab": {
          "base_uri": "https://localhost:8080/"
        },
        "id": "GLrsBya1bDOk",
        "outputId": "e5da4ce5-5bcf-4b6e-ac38-d69b8a63fe2c"
      },
      "execution_count": 29,
      "outputs": [
        {
          "output_type": "stream",
          "name": "stdout",
          "text": [
            "[ 2  4  6  8 10 12 14 16 18]\n"
          ]
        }
      ]
    },
    {
      "cell_type": "code",
      "source": [
        "b = np.linspace(2, 10)\n",
        "b"
      ],
      "metadata": {
        "colab": {
          "base_uri": "https://localhost:8080/"
        },
        "id": "-tbSUX-PbDV1",
        "outputId": "f3f3a766-e274-415c-d7af-80f2c478f9ab"
      },
      "execution_count": 31,
      "outputs": [
        {
          "output_type": "execute_result",
          "data": {
            "text/plain": [
              "array([ 2.        ,  2.16326531,  2.32653061,  2.48979592,  2.65306122,\n",
              "        2.81632653,  2.97959184,  3.14285714,  3.30612245,  3.46938776,\n",
              "        3.63265306,  3.79591837,  3.95918367,  4.12244898,  4.28571429,\n",
              "        4.44897959,  4.6122449 ,  4.7755102 ,  4.93877551,  5.10204082,\n",
              "        5.26530612,  5.42857143,  5.59183673,  5.75510204,  5.91836735,\n",
              "        6.08163265,  6.24489796,  6.40816327,  6.57142857,  6.73469388,\n",
              "        6.89795918,  7.06122449,  7.2244898 ,  7.3877551 ,  7.55102041,\n",
              "        7.71428571,  7.87755102,  8.04081633,  8.20408163,  8.36734694,\n",
              "        8.53061224,  8.69387755,  8.85714286,  9.02040816,  9.18367347,\n",
              "        9.34693878,  9.51020408,  9.67346939,  9.83673469, 10.        ])"
            ]
          },
          "metadata": {},
          "execution_count": 31
        }
      ]
    },
    {
      "cell_type": "code",
      "source": [
        "b = np.linspace(2, 10, 5, dtype=int)\n",
        "b"
      ],
      "metadata": {
        "colab": {
          "base_uri": "https://localhost:8080/"
        },
        "id": "Pb3KH9V-bDcZ",
        "outputId": "e35a0ec8-a87b-459b-8ca3-f399cd6b52fd"
      },
      "execution_count": 32,
      "outputs": [
        {
          "output_type": "execute_result",
          "data": {
            "text/plain": [
              "array([ 2,  4,  6,  8, 10])"
            ]
          },
          "metadata": {},
          "execution_count": 32
        }
      ]
    },
    {
      "cell_type": "code",
      "source": [
        "b = np.linspace(2,10,5, endpoint = False, dtype=int)\n",
        "b"
      ],
      "metadata": {
        "colab": {
          "base_uri": "https://localhost:8080/"
        },
        "id": "-97L2_EQbDls",
        "outputId": "014654dd-491e-4ce8-a017-3e8d3cd9bbf4"
      },
      "execution_count": 35,
      "outputs": [
        {
          "output_type": "execute_result",
          "data": {
            "text/plain": [
              "array([2, 3, 5, 6, 8])"
            ]
          },
          "metadata": {},
          "execution_count": 35
        }
      ]
    },
    {
      "cell_type": "code",
      "source": [
        "b = np.identity(4)\n",
        "b"
      ],
      "metadata": {
        "colab": {
          "base_uri": "https://localhost:8080/"
        },
        "id": "lN_7xy7MbDtz",
        "outputId": "5d2fabd4-38c7-4c78-eb7e-8fd4f117bb48"
      },
      "execution_count": 36,
      "outputs": [
        {
          "output_type": "execute_result",
          "data": {
            "text/plain": [
              "array([[1., 0., 0., 0.],\n",
              "       [0., 1., 0., 0.],\n",
              "       [0., 0., 1., 0.],\n",
              "       [0., 0., 0., 1.]])"
            ]
          },
          "metadata": {},
          "execution_count": 36
        }
      ]
    },
    {
      "cell_type": "code",
      "source": [
        "b = np.eye(4)\n",
        "b"
      ],
      "metadata": {
        "colab": {
          "base_uri": "https://localhost:8080/"
        },
        "id": "ACLfbvnYmbgT",
        "outputId": "3d40353b-7a94-4d99-9709-22c5cbdd029a"
      },
      "execution_count": 39,
      "outputs": [
        {
          "output_type": "execute_result",
          "data": {
            "text/plain": [
              "array([[1., 0., 0., 0.],\n",
              "       [0., 1., 0., 0.],\n",
              "       [0., 0., 1., 0.],\n",
              "       [0., 0., 0., 1.]])"
            ]
          },
          "metadata": {},
          "execution_count": 39
        }
      ]
    },
    {
      "cell_type": "code",
      "source": [
        "b = np.eye(3,3)\n",
        "b"
      ],
      "metadata": {
        "colab": {
          "base_uri": "https://localhost:8080/"
        },
        "id": "HZiBU3sPnEVq",
        "outputId": "57b33667-881e-49b1-8199-d47e4a4f201a"
      },
      "execution_count": 48,
      "outputs": [
        {
          "output_type": "execute_result",
          "data": {
            "text/plain": [
              "array([[1., 0., 0.],\n",
              "       [0., 1., 0.],\n",
              "       [0., 0., 1.]])"
            ]
          },
          "metadata": {},
          "execution_count": 48
        }
      ]
    },
    {
      "cell_type": "code",
      "source": [
        "b = np.random.rand(3)\n",
        "b"
      ],
      "metadata": {
        "colab": {
          "base_uri": "https://localhost:8080/"
        },
        "id": "Gp9Te1dLo8_0",
        "outputId": "94e9ca93-4ae0-4829-87e7-5136e65b8309"
      },
      "execution_count": 49,
      "outputs": [
        {
          "output_type": "execute_result",
          "data": {
            "text/plain": [
              "array([0.45979698, 0.47903395, 0.84279065])"
            ]
          },
          "metadata": {},
          "execution_count": 49
        }
      ]
    },
    {
      "cell_type": "code",
      "source": [
        "b = np.random.rand(2,3)\n",
        "b"
      ],
      "metadata": {
        "colab": {
          "base_uri": "https://localhost:8080/"
        },
        "id": "z6FhrC50o9Te",
        "outputId": "28408319-081e-4e62-de18-4502135c25f2"
      },
      "execution_count": 50,
      "outputs": [
        {
          "output_type": "execute_result",
          "data": {
            "text/plain": [
              "array([[0.84102837, 0.67234087, 0.29066657],\n",
              "       [0.9478477 , 0.6903801 , 0.43833411]])"
            ]
          },
          "metadata": {},
          "execution_count": 50
        }
      ]
    },
    {
      "cell_type": "code",
      "source": [
        "b = np.random.rand(10)*10\n",
        "b"
      ],
      "metadata": {
        "colab": {
          "base_uri": "https://localhost:8080/"
        },
        "id": "uV-PWgB7qngs",
        "outputId": "6254ab46-c582-4395-c173-f848b61e8c39"
      },
      "execution_count": 52,
      "outputs": [
        {
          "output_type": "execute_result",
          "data": {
            "text/plain": [
              "array([0.67632684, 5.15736588, 5.944525  , 4.57674628, 1.58722255,\n",
              "       0.18658046, 9.93074071, 2.04927788, 8.26102948, 0.77216186])"
            ]
          },
          "metadata": {},
          "execution_count": 52
        }
      ]
    }
  ]
}