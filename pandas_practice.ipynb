{
  "nbformat": 4,
  "nbformat_minor": 0,
  "metadata": {
    "colab": {
      "provenance": [],
      "authorship_tag": "ABX9TyPyb+1/fd2jJdt+lDp8AqG0",
      "include_colab_link": true
    },
    "kernelspec": {
      "name": "python3",
      "display_name": "Python 3"
    },
    "language_info": {
      "name": "python"
    }
  },
  "cells": [
    {
      "cell_type": "markdown",
      "metadata": {
        "id": "view-in-github",
        "colab_type": "text"
      },
      "source": [
        "<a href=\"https://colab.research.google.com/github/digvijaysingh21/AI_ML_Libraries_foundational/blob/main/pandas_practice.ipynb\" target=\"_parent\"><img src=\"https://colab.research.google.com/assets/colab-badge.svg\" alt=\"Open In Colab\"/></a>"
      ]
    },
    {
      "cell_type": "code",
      "execution_count": 1,
      "metadata": {
        "id": "wnGj8bOx4Rbe"
      },
      "outputs": [],
      "source": [
        "import pandas as pd"
      ]
    },
    {
      "cell_type": "code",
      "source": [
        "\n",
        "#A DataFrame is a 2-dimensional labeled data structure with columns that can be of different types (e.g., integers, strings, floats)."
      ],
      "metadata": {
        "id": "VEu6qmRk45WF"
      },
      "execution_count": null,
      "outputs": []
    },
    {
      "cell_type": "code",
      "source": [
        "#creating DataFrames from a dictionary\n",
        "data = {\n",
        "    'name' : ['Ram', 'Laxma', 'Bharat', 'Satrudhan'],\n",
        "    'age': [30,25,20,18],\n",
        "     'city': ['Ayodhya','Mithila','Bihar',\"Uttar Pradesh\"]\n",
        "}\n",
        "\n",
        "df = pd.DataFrame(data)\n",
        "print(df)"
      ],
      "metadata": {
        "colab": {
          "base_uri": "https://localhost:8080/"
        },
        "id": "5UOif_av5Aq4",
        "outputId": "553d0e43-7a65-4334-bd08-f458e163d3b1"
      },
      "execution_count": 26,
      "outputs": [
        {
          "output_type": "stream",
          "name": "stdout",
          "text": [
            "        name  age           city\n",
            "0        Ram   30        Ayodhya\n",
            "1      Laxma   25        Mithila\n",
            "2     Bharat   20          Bihar\n",
            "3  Satrudhan   18  Uttar Pradesh\n"
          ]
        }
      ]
    },
    {
      "cell_type": "code",
      "source": [
        "#creating DataFrames from a list of lists\n",
        "\n",
        "data = [\n",
        "    ['Ram',30,'Ayodhya'],\n",
        "    ['Laxman',25,'Mithila'],\n",
        "    ['Bharat',20,'Bihar'],\n",
        "    ['Sathrudhan',18,'Uttar Pradesh']\n",
        "]\n",
        "\n",
        "df = pd.DataFrame(data, columns=['name','age','city'])\n",
        "print(df)"
      ],
      "metadata": {
        "colab": {
          "base_uri": "https://localhost:8080/"
        },
        "id": "3A23_zxK5A-x",
        "outputId": "963af72f-8691-4cb1-82b3-eb442aface21"
      },
      "execution_count": 27,
      "outputs": [
        {
          "output_type": "stream",
          "name": "stdout",
          "text": [
            "         name  age           city\n",
            "0         Ram   30        Ayodhya\n",
            "1      Laxman   25        Mithila\n",
            "2      Bharat   20          Bihar\n",
            "3  Sathrudhan   18  Uttar Pradesh\n"
          ]
        }
      ]
    },
    {
      "cell_type": "markdown",
      "source": [
        "**Pandas can read data from a variety of file format like CSV,Excel, SQL etc**"
      ],
      "metadata": {
        "id": "4sT6DOHl7bZD"
      }
    },
    {
      "cell_type": "code",
      "source": [
        "#Reading from CSV file\n",
        "df = pd.read_csv('file_path.csv')"
      ],
      "metadata": {
        "id": "ISDzW10T5BI_"
      },
      "execution_count": 6,
      "outputs": []
    },
    {
      "cell_type": "code",
      "source": [
        "#Reading file from Excel\n",
        "df = pd.read_excel('file_path.xlsx', sheet_name='Sheet1')"
      ],
      "metadata": {
        "id": "98P7BAVs5BSP"
      },
      "execution_count": null,
      "outputs": []
    },
    {
      "cell_type": "markdown",
      "source": [
        "**`Basic DataFrame Operations`**"
      ],
      "metadata": {
        "id": "ClSGrpx_8KnM"
      }
    },
    {
      "cell_type": "code",
      "source": [
        "#View data\n",
        "\n",
        "#shows first 5 rows\n",
        "df.head()\n",
        "\n",
        "\n",
        "#shows the last 5 rows\n",
        "df.tail()\n",
        "\n",
        "#provides summary information about the dataFrame (e.g column types and non-null values)\n",
        "df.info()\n",
        "\n",
        "#gives summary statistics of numerical cloumns\n",
        "df.describe()"
      ],
      "metadata": {
        "id": "xeMfJvLb5Ba9"
      },
      "execution_count": null,
      "outputs": []
    },
    {
      "cell_type": "code",
      "source": [
        "#Selecting columns\n",
        "\n",
        "# print(df['name'])\n",
        "\n",
        "print(df[['name','age']])"
      ],
      "metadata": {
        "colab": {
          "base_uri": "https://localhost:8080/"
        },
        "id": "hDykfu1G87iK",
        "outputId": "40a2df74-9ed3-4410-d97e-1d528b177176"
      },
      "execution_count": 11,
      "outputs": [
        {
          "output_type": "stream",
          "name": "stdout",
          "text": [
            "        name  age\n",
            "0        Ram   30\n",
            "1      Laxma   25\n",
            "2     Bharat   20\n",
            "3  Satrudhan   18\n"
          ]
        }
      ]
    },
    {
      "cell_type": "code",
      "source": [
        "#Filtering rows\n",
        "#we can filter rows based on conditions\n",
        "\n",
        "# print(df[df['age'] > 17])\n",
        "\n",
        "\n",
        "# print(df[(condition 1) & (condition 2)]) for multiple conditions\n",
        "\n",
        "print(df[(df['age'] > 17) & (df['city'] == 'Ayodhya')])"
      ],
      "metadata": {
        "colab": {
          "base_uri": "https://localhost:8080/"
        },
        "id": "YyY8bhf19Uoa",
        "outputId": "8a72bc3e-def9-44da-e0a5-c9fd0e7d9e88"
      },
      "execution_count": 18,
      "outputs": [
        {
          "output_type": "stream",
          "name": "stdout",
          "text": [
            "  name  age     city\n",
            "0  Ram   30  Ayodhya\n"
          ]
        }
      ]
    },
    {
      "cell_type": "code",
      "source": [
        "#sorting data\n",
        "df_sorted = df.sort_values(by='age', ascending=True)\n",
        "print(df_sorted)"
      ],
      "metadata": {
        "colab": {
          "base_uri": "https://localhost:8080/"
        },
        "id": "Lgb-Hx8c9U5y",
        "outputId": "97bfa0fc-6f1b-473e-9657-ec0f019b232c"
      },
      "execution_count": 22,
      "outputs": [
        {
          "output_type": "stream",
          "name": "stdout",
          "text": [
            "        name  age           city\n",
            "3  Satrudhan   18  Uttar Pradesh\n",
            "2     Bharat   20          Bihar\n",
            "1      Laxma   25        Mithila\n",
            "0        Ram   30        Ayodhya\n"
          ]
        }
      ]
    },
    {
      "cell_type": "markdown",
      "source": [
        "**Data Cleaning**"
      ],
      "metadata": {
        "id": "VyaOXowW_VNq"
      }
    },
    {
      "cell_type": "code",
      "source": [
        "#Handling missing data\n",
        "df.isnull()"
      ],
      "metadata": {
        "id": "7DRb3FYQ-6Ra"
      },
      "execution_count": null,
      "outputs": []
    },
    {
      "cell_type": "code",
      "source": [
        "#Drop rows with missing values\n",
        "df = df.dropna()"
      ],
      "metadata": {
        "id": "QGmSznag-6bZ"
      },
      "execution_count": null,
      "outputs": []
    },
    {
      "cell_type": "code",
      "source": [
        "#fill missing values with a specific value\n",
        "df = df.fillna(value={'age':30, 'city': 'Unknown'})\n",
        "print(df)"
      ],
      "metadata": {
        "id": "dlvkuN14-6fh"
      },
      "execution_count": null,
      "outputs": []
    },
    {
      "cell_type": "code",
      "source": [
        "#renaming columns\n",
        "df = df.rename(columns={'name': 'full_name', 'age': 'yeras_old'})\n",
        "print(df)"
      ],
      "metadata": {
        "id": "20LVsH9O-6i5"
      },
      "execution_count": null,
      "outputs": []
    },
    {
      "cell_type": "code",
      "source": [
        "#column data types\n",
        "df['age'] = df['age'].astype(float)\n",
        "print(df)"
      ],
      "metadata": {
        "colab": {
          "base_uri": "https://localhost:8080/"
        },
        "id": "M1Ir7slAAYHz",
        "outputId": "c3652f07-6d00-4acf-8d21-42fa7fbcfe65"
      },
      "execution_count": 30,
      "outputs": [
        {
          "output_type": "stream",
          "name": "stdout",
          "text": [
            "         name   age           city\n",
            "0         Ram  30.0        Ayodhya\n",
            "1      Laxman  25.0        Mithila\n",
            "2      Bharat  20.0          Bihar\n",
            "3  Sathrudhan  18.0  Uttar Pradesh\n"
          ]
        }
      ]
    }
  ]
}