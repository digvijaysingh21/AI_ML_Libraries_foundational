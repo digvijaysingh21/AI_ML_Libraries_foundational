{
  "nbformat": 4,
  "nbformat_minor": 0,
  "metadata": {
    "colab": {
      "provenance": [],
      "authorship_tag": "ABX9TyNd5xz0Nzq+M/CP2+n4tcTr",
      "include_colab_link": true
    },
    "kernelspec": {
      "name": "python3",
      "display_name": "Python 3"
    },
    "language_info": {
      "name": "python"
    }
  },
  "cells": [
    {
      "cell_type": "markdown",
      "metadata": {
        "id": "view-in-github",
        "colab_type": "text"
      },
      "source": [
        "<a href=\"https://colab.research.google.com/github/digvijaysingh21/AI_ML_Libraries_foundational/blob/main/literals.ipynb\" target=\"_parent\"><img src=\"https://colab.research.google.com/assets/colab-badge.svg\" alt=\"Open In Colab\"/></a>"
      ]
    },
    {
      "cell_type": "markdown",
      "source": [
        "**Literals**"
      ],
      "metadata": {
        "id": "zoisIlPbEXDo"
      }
    },
    {
      "cell_type": "code",
      "source": [
        "# A literals is data whose values are determined by the literal itslef\n",
        "\n",
        "# e.g\n",
        "\n",
        "# 123 is a literal but c is not"
      ],
      "metadata": {
        "id": "BmqQ8M2HEdNV"
      },
      "execution_count": null,
      "outputs": []
    },
    {
      "cell_type": "code",
      "source": [
        "# two different types of literals:\n",
        "# a string,\n",
        "# and an integer number,\n",
        "print(\"2\")\n",
        "print(2)\n"
      ],
      "metadata": {
        "colab": {
          "base_uri": "https://localhost:8080/"
        },
        "id": "gBzQ7FJ8FVRG",
        "outputId": "0783d235-0eec-47ba-a30c-ae09cf469856"
      },
      "execution_count": 1,
      "outputs": [
        {
          "output_type": "stream",
          "name": "stdout",
          "text": [
            "2\n",
            "2\n"
          ]
        }
      ]
    },
    {
      "cell_type": "code",
      "source": [
        "# Octal number\n",
        "\n",
        "# If an integer number is preceded by an 0O or 0o prefix (zero-o), it will be treated as an octal value.\n",
        "# This means that the number must contain digits taken from the [0..7] range only.\n",
        "\n",
        "print(0o123)\n",
        "\n",
        "print(0o343)\n",
        "\n"
      ],
      "metadata": {
        "colab": {
          "base_uri": "https://localhost:8080/"
        },
        "id": "-4fNB5kXLAG0",
        "outputId": "fb59a640-1236-489e-e90f-5b8852e63e94"
      },
      "execution_count": 3,
      "outputs": [
        {
          "output_type": "stream",
          "name": "stdout",
          "text": [
            "83\n",
            "227\n"
          ]
        }
      ]
    },
    {
      "cell_type": "code",
      "source": [
        "# hexadecimal number\n",
        "# Such numbers should be preceded by the prefix 0x or 0X (zero-x).\n",
        "\n",
        "print(0x123)\n",
        "print(0x343)"
      ],
      "metadata": {
        "colab": {
          "base_uri": "https://localhost:8080/"
        },
        "id": "WlMB8IiGLAMH",
        "outputId": "465261ef-296a-4622-a8f5-63cab29a620d"
      },
      "execution_count": 5,
      "outputs": [
        {
          "output_type": "stream",
          "name": "stdout",
          "text": [
            "291\n",
            "835\n"
          ]
        }
      ]
    },
    {
      "cell_type": "code",
      "source": [
        "# the exponent (the value after the E) has to be an integer;\n",
        "# the base (the value in front of the E) may be either an integer or a float.\n",
        "# 300000000\n",
        "print(3e8)"
      ],
      "metadata": {
        "colab": {
          "base_uri": "https://localhost:8080/"
        },
        "id": "wVeeDq6TLARi",
        "outputId": "06b2bc1b-0193-4805-9898-c36259c1fb8d"
      },
      "execution_count": 6,
      "outputs": [
        {
          "output_type": "stream",
          "name": "stdout",
          "text": [
            "300000000.0\n"
          ]
        }
      ]
    },
    {
      "cell_type": "code",
      "source": [
        "# Planck's constant 6.62607 X 10^-34\n",
        "print(6.62607E-32)"
      ],
      "metadata": {
        "colab": {
          "base_uri": "https://localhost:8080/"
        },
        "id": "ErGYC_07LAVT",
        "outputId": "e6b233c2-6859-4814-8d83-628856b3947a"
      },
      "execution_count": 10,
      "outputs": [
        {
          "output_type": "stream",
          "name": "stdout",
          "text": [
            "6.62607e-32\n"
          ]
        }
      ]
    },
    {
      "cell_type": "code",
      "source": [
        "print(\"I like \\\"python and c++\\\"\")\n",
        "\n",
        "print('I like \"pyhton and c++\"')\n",
        "\n",
        "print(\"I love rading books \\\" what's your choice\\\"\")\n",
        "\n",
        "# print(\"I love rading books \" what's your choice\"\")  #error\n",
        "\n",
        "\n",
        "print(\"I love rading books what\\'s your choice\")\n",
        "\n",
        "print(\"I'm good \")"
      ],
      "metadata": {
        "colab": {
          "base_uri": "https://localhost:8080/"
        },
        "id": "FJFuWXBOPdwT",
        "outputId": "50a8134b-48a7-4c02-d5e0-73e0a595e0a5"
      },
      "execution_count": 27,
      "outputs": [
        {
          "output_type": "stream",
          "name": "stdout",
          "text": [
            "I like \"python and c++\"\n",
            "I like \"pyhton and c++\"\n",
            "I love rading books \" what's your choice\"\n",
            "I love rading books what's your choice\n",
            "I'm good \n"
          ]
        }
      ]
    },
    {
      "cell_type": "code",
      "source": [
        "print(\"I'm\")\n",
        "print(\"\\\"\\\"learning\\\"\\\"\")\n",
        "print(\"\\\"\\\"\\\"Python\\\"\\\"\\\"\")\n",
        "print(\"\\\"I'm\\\"\\n\\\"\\\"learning\\\"\\\"\\n\\\"\\\"\\\"Python\\\"\\\"\\\"\")"
      ],
      "metadata": {
        "colab": {
          "base_uri": "https://localhost:8080/"
        },
        "id": "sj4ZliDRSmsc",
        "outputId": "a05c4624-d08a-4e2a-8aa9-5f4a00e22c37"
      },
      "execution_count": 28,
      "outputs": [
        {
          "output_type": "stream",
          "name": "stdout",
          "text": [
            "I'm\n",
            "\"\"learning\"\"\n",
            "\"\"\"Python\"\"\"\n"
          ]
        }
      ]
    },
    {
      "cell_type": "code",
      "source": [
        "\n"
      ],
      "metadata": {
        "id": "JXU6LHMMR0xw"
      },
      "execution_count": null,
      "outputs": []
    }
  ]
}