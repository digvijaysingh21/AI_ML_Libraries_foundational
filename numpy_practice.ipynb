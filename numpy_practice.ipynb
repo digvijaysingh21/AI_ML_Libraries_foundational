{
  "nbformat": 4,
  "nbformat_minor": 0,
  "metadata": {
    "colab": {
      "provenance": [],
      "authorship_tag": "ABX9TyP16qMXY6jUVu9+iPf3l5vz",
      "include_colab_link": true
    },
    "kernelspec": {
      "name": "python3",
      "display_name": "Python 3"
    },
    "language_info": {
      "name": "python"
    }
  },
  "cells": [
    {
      "cell_type": "markdown",
      "metadata": {
        "id": "view-in-github",
        "colab_type": "text"
      },
      "source": [
        "<a href=\"https://colab.research.google.com/github/digvijaysingh21/AI_ML_Libraries_foundational/blob/main/numpy_practice.ipynb\" target=\"_parent\"><img src=\"https://colab.research.google.com/assets/colab-badge.svg\" alt=\"Open In Colab\"/></a>"
      ]
    },
    {
      "cell_type": "code",
      "execution_count": 2,
      "metadata": {
        "id": "kVRoGV-hWWpc"
      },
      "outputs": [],
      "source": [
        "import numpy as np"
      ]
    },
    {
      "cell_type": "code",
      "source": [
        "#creating 1 d array\n",
        "arr1d = np.array([1,2,3,4])\n",
        "print(\"1d array\", arr1d)"
      ],
      "metadata": {
        "colab": {
          "base_uri": "https://localhost:8080/"
        },
        "id": "GN1MFHgZW29W",
        "outputId": "c35ac848-86bc-4cd8-9b10-90f0ed0fd225"
      },
      "execution_count": 6,
      "outputs": [
        {
          "output_type": "stream",
          "name": "stdout",
          "text": [
            "1d array [1 2 3 4]\n"
          ]
        }
      ]
    },
    {
      "cell_type": "code",
      "source": [
        "#creating 2d array\n",
        "arr2d = np.array([[1,2,3],[4,5,6]])\n",
        "print(\"2d array\", arr2d)"
      ],
      "metadata": {
        "colab": {
          "base_uri": "https://localhost:8080/"
        },
        "id": "ff0vO8aMXM7z",
        "outputId": "6bb7c13c-3dce-4c3e-f386-b41557da3082"
      },
      "execution_count": 7,
      "outputs": [
        {
          "output_type": "stream",
          "name": "stdout",
          "text": [
            "2d array [[1 2 3]\n",
            " [4 5 6]]\n"
          ]
        }
      ]
    },
    {
      "cell_type": "code",
      "source": [
        "#array of zeros\n",
        "zeros = np.zeros((2,3))\n",
        "print(\"zeros array\", zeros)"
      ],
      "metadata": {
        "colab": {
          "base_uri": "https://localhost:8080/"
        },
        "id": "m2hTNzb7Xdal",
        "outputId": "343701e9-12d0-4b13-9093-e65b2f280329"
      },
      "execution_count": 8,
      "outputs": [
        {
          "output_type": "stream",
          "name": "stdout",
          "text": [
            "zeros array [[0. 0. 0.]\n",
            " [0. 0. 0.]]\n"
          ]
        }
      ]
    },
    {
      "cell_type": "code",
      "source": [
        "#array of ones\n",
        "one = np.ones([3,3])\n",
        "print(\"all ones\", one)"
      ],
      "metadata": {
        "colab": {
          "base_uri": "https://localhost:8080/"
        },
        "id": "uaf_JjcRXy7P",
        "outputId": "c1110a84-a97f-4ac3-ec47-6b63fc7b0a04"
      },
      "execution_count": 10,
      "outputs": [
        {
          "output_type": "stream",
          "name": "stdout",
          "text": [
            "all ones [[1. 1. 1.]\n",
            " [1. 1. 1.]\n",
            " [1. 1. 1.]]\n"
          ]
        }
      ]
    },
    {
      "cell_type": "code",
      "source": [
        "# array with range of values\n",
        "range_array = np.arange(1,10,2)\n",
        "print(\"Range arrays\", range_array)"
      ],
      "metadata": {
        "colab": {
          "base_uri": "https://localhost:8080/"
        },
        "id": "FM-tTpy1ZpIU",
        "outputId": "4f279215-015e-4229-b260-7b5c21c96a16"
      },
      "execution_count": 13,
      "outputs": [
        {
          "output_type": "stream",
          "name": "stdout",
          "text": [
            "Range arrays [1 3 5 7 9]\n"
          ]
        }
      ]
    },
    {
      "cell_type": "code",
      "source": [
        "# np.arange([start, ]stop, [step, ], dtype=None)\n",
        "\n",
        "# start (optional): The starting value of the sequence. Default is 0 if not provided.\n",
        "# stop: The value at which to stop (but this value is not included in the result).\n",
        "# step (optional): The step size between each value. Default is 1 if not provided.\n",
        "# dtype (optional): The data type of the resulting array.\n",
        "ans = np.arange(5)\n",
        "print(ans)\n"
      ],
      "metadata": {
        "colab": {
          "base_uri": "https://localhost:8080/"
        },
        "id": "iDNPppLYacpx",
        "outputId": "afea26c2-2327-44ae-a671-cf7c6c9498ce"
      },
      "execution_count": 15,
      "outputs": [
        {
          "output_type": "stream",
          "name": "stdout",
          "text": [
            "[0 1 2 3 4]\n"
          ]
        }
      ]
    },
    {
      "cell_type": "code",
      "source": [
        "\n",
        "# res = np.arange(1,10,dtype=float)\n",
        "res = np.arange(1,10,1.5,dtype=float)\n",
        "print(res)"
      ],
      "metadata": {
        "colab": {
          "base_uri": "https://localhost:8080/"
        },
        "id": "QgZo0Cpxb2HO",
        "outputId": "10dc8402-fa6f-425d-f40b-c9ae4ee3b0b9"
      },
      "execution_count": 18,
      "outputs": [
        {
          "output_type": "stream",
          "name": "stdout",
          "text": [
            "[1.  2.5 4.  5.5 7.  8.5]\n"
          ]
        }
      ]
    },
    {
      "cell_type": "code",
      "source": [
        "#Creates an identity matrix.\n",
        "result = np.eye(3)\n",
        "print(result)"
      ],
      "metadata": {
        "colab": {
          "base_uri": "https://localhost:8080/"
        },
        "id": "p-kJdCm3defd",
        "outputId": "c3aaefc6-808b-4d08-9e82-41be07ea9243"
      },
      "execution_count": 21,
      "outputs": [
        {
          "output_type": "stream",
          "name": "stdout",
          "text": [
            "[[1. 0. 0.]\n",
            " [0. 1. 0.]\n",
            " [0. 0. 1.]]\n"
          ]
        }
      ]
    },
    {
      "cell_type": "code",
      "source": [
        "#Flattens a multi-dimensional array into a 1D array.\n",
        "answer = np.array([[1,2,3],[4,5,6]])\n",
        "arr_flat = answer.flatten()\n",
        "print(arr_flat)"
      ],
      "metadata": {
        "colab": {
          "base_uri": "https://localhost:8080/"
        },
        "id": "yYmp5j9zdgID",
        "outputId": "cff472c7-bd7d-419a-a4fb-5cbee36cbece"
      },
      "execution_count": 23,
      "outputs": [
        {
          "output_type": "stream",
          "name": "stdout",
          "text": [
            "[1 2 3 4 5 6]\n"
          ]
        }
      ]
    },
    {
      "cell_type": "code",
      "source": [
        "#np.add(), np.subtract(), np.multiply(), np.divide(): Perform element-wise addition, subtraction, multiplication, and division.\n",
        "answer1 = np.array([1,2,3])\n",
        "answer2 = np.array([4,5,6])\n",
        "result = np.add(answer1, answer2)\n",
        "print(result)"
      ],
      "metadata": {
        "colab": {
          "base_uri": "https://localhost:8080/"
        },
        "id": "T2d5P6XWd3qf",
        "outputId": "86d789ff-e376-417a-fd2b-195259f25c92"
      },
      "execution_count": 25,
      "outputs": [
        {
          "output_type": "stream",
          "name": "stdout",
          "text": [
            "[5 7 9]\n"
          ]
        }
      ]
    },
    {
      "cell_type": "code",
      "source": [
        "#Computes the sum of array elements.\n",
        "res = np.array([1,2,3])\n",
        "ans = res.sum()\n",
        "print(ans)"
      ],
      "metadata": {
        "colab": {
          "base_uri": "https://localhost:8080/"
        },
        "id": "Snd2p4tdeSSZ",
        "outputId": "497fd7fc-2fb5-4ef0-b8b0-817803fdf23e"
      },
      "execution_count": 27,
      "outputs": [
        {
          "output_type": "stream",
          "name": "stdout",
          "text": [
            "6\n"
          ]
        }
      ]
    },
    {
      "cell_type": "code",
      "source": [],
      "metadata": {
        "id": "QEk1CTtReqf4"
      },
      "execution_count": null,
      "outputs": []
    }
  ]
}